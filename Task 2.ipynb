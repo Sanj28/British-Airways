{
 "cells": [
  {
   "cell_type": "code",
   "execution_count": 1,
   "id": "ac255a01",
   "metadata": {},
   "outputs": [],
   "source": [
    "import numpy as np\n",
    "import pandas as pd\n",
    "import matplotlib.pyplot as plt"
   ]
  },
  {
   "cell_type": "code",
   "execution_count": 2,
   "id": "6cc9fcb9",
   "metadata": {},
   "outputs": [],
   "source": [
    "df = pd.read_csv('customer_booking.csv',encoding='latin-1')"
   ]
  },
  {
   "cell_type": "code",
   "execution_count": 3,
   "id": "79cf8055",
   "metadata": {},
   "outputs": [],
   "source": [
    "import warnings\n",
    "warnings.filterwarnings('ignore')"
   ]
  },
  {
   "cell_type": "code",
   "execution_count": 4,
   "id": "bad956a3",
   "metadata": {},
   "outputs": [
    {
     "data": {
      "text/html": [
       "<div>\n",
       "<style scoped>\n",
       "    .dataframe tbody tr th:only-of-type {\n",
       "        vertical-align: middle;\n",
       "    }\n",
       "\n",
       "    .dataframe tbody tr th {\n",
       "        vertical-align: top;\n",
       "    }\n",
       "\n",
       "    .dataframe thead th {\n",
       "        text-align: right;\n",
       "    }\n",
       "</style>\n",
       "<table border=\"1\" class=\"dataframe\">\n",
       "  <thead>\n",
       "    <tr style=\"text-align: right;\">\n",
       "      <th></th>\n",
       "      <th>num_passengers</th>\n",
       "      <th>sales_channel</th>\n",
       "      <th>trip_type</th>\n",
       "      <th>purchase_lead</th>\n",
       "      <th>length_of_stay</th>\n",
       "      <th>flight_hour</th>\n",
       "      <th>flight_day</th>\n",
       "      <th>route</th>\n",
       "      <th>booking_origin</th>\n",
       "      <th>wants_extra_baggage</th>\n",
       "      <th>wants_preferred_seat</th>\n",
       "      <th>wants_in_flight_meals</th>\n",
       "      <th>flight_duration</th>\n",
       "      <th>booking_complete</th>\n",
       "    </tr>\n",
       "  </thead>\n",
       "  <tbody>\n",
       "    <tr>\n",
       "      <th>24814</th>\n",
       "      <td>2</td>\n",
       "      <td>Internet</td>\n",
       "      <td>RoundTrip</td>\n",
       "      <td>56</td>\n",
       "      <td>28</td>\n",
       "      <td>8</td>\n",
       "      <td>Sat</td>\n",
       "      <td>SGNSYD</td>\n",
       "      <td>Australia</td>\n",
       "      <td>1</td>\n",
       "      <td>0</td>\n",
       "      <td>0</td>\n",
       "      <td>8.58</td>\n",
       "      <td>0</td>\n",
       "    </tr>\n",
       "    <tr>\n",
       "      <th>15716</th>\n",
       "      <td>1</td>\n",
       "      <td>Internet</td>\n",
       "      <td>RoundTrip</td>\n",
       "      <td>5</td>\n",
       "      <td>59</td>\n",
       "      <td>13</td>\n",
       "      <td>Fri</td>\n",
       "      <td>JHBTPE</td>\n",
       "      <td>Malaysia</td>\n",
       "      <td>1</td>\n",
       "      <td>0</td>\n",
       "      <td>0</td>\n",
       "      <td>4.67</td>\n",
       "      <td>1</td>\n",
       "    </tr>\n",
       "    <tr>\n",
       "      <th>34873</th>\n",
       "      <td>1</td>\n",
       "      <td>Internet</td>\n",
       "      <td>RoundTrip</td>\n",
       "      <td>8</td>\n",
       "      <td>4</td>\n",
       "      <td>10</td>\n",
       "      <td>Wed</td>\n",
       "      <td>SGNSYD</td>\n",
       "      <td>Australia</td>\n",
       "      <td>0</td>\n",
       "      <td>0</td>\n",
       "      <td>1</td>\n",
       "      <td>8.58</td>\n",
       "      <td>0</td>\n",
       "    </tr>\n",
       "    <tr>\n",
       "      <th>48607</th>\n",
       "      <td>1</td>\n",
       "      <td>Internet</td>\n",
       "      <td>RoundTrip</td>\n",
       "      <td>59</td>\n",
       "      <td>6</td>\n",
       "      <td>12</td>\n",
       "      <td>Sun</td>\n",
       "      <td>LGKPER</td>\n",
       "      <td>Australia</td>\n",
       "      <td>1</td>\n",
       "      <td>0</td>\n",
       "      <td>0</td>\n",
       "      <td>5.62</td>\n",
       "      <td>0</td>\n",
       "    </tr>\n",
       "    <tr>\n",
       "      <th>34716</th>\n",
       "      <td>1</td>\n",
       "      <td>Internet</td>\n",
       "      <td>RoundTrip</td>\n",
       "      <td>152</td>\n",
       "      <td>4</td>\n",
       "      <td>9</td>\n",
       "      <td>Fri</td>\n",
       "      <td>PUSSIN</td>\n",
       "      <td>South Korea</td>\n",
       "      <td>0</td>\n",
       "      <td>0</td>\n",
       "      <td>0</td>\n",
       "      <td>6.33</td>\n",
       "      <td>0</td>\n",
       "    </tr>\n",
       "    <tr>\n",
       "      <th>33537</th>\n",
       "      <td>1</td>\n",
       "      <td>Internet</td>\n",
       "      <td>RoundTrip</td>\n",
       "      <td>4</td>\n",
       "      <td>4</td>\n",
       "      <td>16</td>\n",
       "      <td>Sun</td>\n",
       "      <td>KIXSIN</td>\n",
       "      <td>Japan</td>\n",
       "      <td>1</td>\n",
       "      <td>0</td>\n",
       "      <td>1</td>\n",
       "      <td>7.00</td>\n",
       "      <td>0</td>\n",
       "    </tr>\n",
       "    <tr>\n",
       "      <th>24020</th>\n",
       "      <td>2</td>\n",
       "      <td>Internet</td>\n",
       "      <td>RoundTrip</td>\n",
       "      <td>194</td>\n",
       "      <td>29</td>\n",
       "      <td>11</td>\n",
       "      <td>Thu</td>\n",
       "      <td>PERUTP</td>\n",
       "      <td>Australia</td>\n",
       "      <td>1</td>\n",
       "      <td>1</td>\n",
       "      <td>0</td>\n",
       "      <td>5.62</td>\n",
       "      <td>0</td>\n",
       "    </tr>\n",
       "    <tr>\n",
       "      <th>21107</th>\n",
       "      <td>1</td>\n",
       "      <td>Internet</td>\n",
       "      <td>RoundTrip</td>\n",
       "      <td>11</td>\n",
       "      <td>22</td>\n",
       "      <td>11</td>\n",
       "      <td>Wed</td>\n",
       "      <td>MNLPER</td>\n",
       "      <td>Australia</td>\n",
       "      <td>1</td>\n",
       "      <td>0</td>\n",
       "      <td>0</td>\n",
       "      <td>5.62</td>\n",
       "      <td>0</td>\n",
       "    </tr>\n",
       "    <tr>\n",
       "      <th>7666</th>\n",
       "      <td>2</td>\n",
       "      <td>Internet</td>\n",
       "      <td>RoundTrip</td>\n",
       "      <td>0</td>\n",
       "      <td>76</td>\n",
       "      <td>4</td>\n",
       "      <td>Thu</td>\n",
       "      <td>DACMEL</td>\n",
       "      <td>Australia</td>\n",
       "      <td>1</td>\n",
       "      <td>0</td>\n",
       "      <td>0</td>\n",
       "      <td>8.83</td>\n",
       "      <td>0</td>\n",
       "    </tr>\n",
       "    <tr>\n",
       "      <th>28741</th>\n",
       "      <td>1</td>\n",
       "      <td>Internet</td>\n",
       "      <td>RoundTrip</td>\n",
       "      <td>55</td>\n",
       "      <td>3</td>\n",
       "      <td>6</td>\n",
       "      <td>Mon</td>\n",
       "      <td>MELTRZ</td>\n",
       "      <td>United Arab Emirates</td>\n",
       "      <td>0</td>\n",
       "      <td>1</td>\n",
       "      <td>0</td>\n",
       "      <td>8.83</td>\n",
       "      <td>1</td>\n",
       "    </tr>\n",
       "  </tbody>\n",
       "</table>\n",
       "</div>"
      ],
      "text/plain": [
       "       num_passengers sales_channel  trip_type  purchase_lead  length_of_stay   \n",
       "24814               2      Internet  RoundTrip             56              28  \\\n",
       "15716               1      Internet  RoundTrip              5              59   \n",
       "34873               1      Internet  RoundTrip              8               4   \n",
       "48607               1      Internet  RoundTrip             59               6   \n",
       "34716               1      Internet  RoundTrip            152               4   \n",
       "33537               1      Internet  RoundTrip              4               4   \n",
       "24020               2      Internet  RoundTrip            194              29   \n",
       "21107               1      Internet  RoundTrip             11              22   \n",
       "7666                2      Internet  RoundTrip              0              76   \n",
       "28741               1      Internet  RoundTrip             55               3   \n",
       "\n",
       "       flight_hour flight_day   route        booking_origin   \n",
       "24814            8        Sat  SGNSYD             Australia  \\\n",
       "15716           13        Fri  JHBTPE              Malaysia   \n",
       "34873           10        Wed  SGNSYD             Australia   \n",
       "48607           12        Sun  LGKPER             Australia   \n",
       "34716            9        Fri  PUSSIN           South Korea   \n",
       "33537           16        Sun  KIXSIN                 Japan   \n",
       "24020           11        Thu  PERUTP             Australia   \n",
       "21107           11        Wed  MNLPER             Australia   \n",
       "7666             4        Thu  DACMEL             Australia   \n",
       "28741            6        Mon  MELTRZ  United Arab Emirates   \n",
       "\n",
       "       wants_extra_baggage  wants_preferred_seat  wants_in_flight_meals   \n",
       "24814                    1                     0                      0  \\\n",
       "15716                    1                     0                      0   \n",
       "34873                    0                     0                      1   \n",
       "48607                    1                     0                      0   \n",
       "34716                    0                     0                      0   \n",
       "33537                    1                     0                      1   \n",
       "24020                    1                     1                      0   \n",
       "21107                    1                     0                      0   \n",
       "7666                     1                     0                      0   \n",
       "28741                    0                     1                      0   \n",
       "\n",
       "       flight_duration  booking_complete  \n",
       "24814             8.58                 0  \n",
       "15716             4.67                 1  \n",
       "34873             8.58                 0  \n",
       "48607             5.62                 0  \n",
       "34716             6.33                 0  \n",
       "33537             7.00                 0  \n",
       "24020             5.62                 0  \n",
       "21107             5.62                 0  \n",
       "7666              8.83                 0  \n",
       "28741             8.83                 1  "
      ]
     },
     "execution_count": 4,
     "metadata": {},
     "output_type": "execute_result"
    }
   ],
   "source": [
    "df.sample(10)"
   ]
  },
  {
   "cell_type": "markdown",
   "id": "9027f784",
   "metadata": {},
   "source": [
    "Traget variable is booking_complete"
   ]
  },
  {
   "cell_type": "code",
   "execution_count": 5,
   "id": "d253024b",
   "metadata": {},
   "outputs": [
    {
     "data": {
      "text/plain": [
       "(50000, 14)"
      ]
     },
     "execution_count": 5,
     "metadata": {},
     "output_type": "execute_result"
    }
   ],
   "source": [
    "df.shape"
   ]
  },
  {
   "cell_type": "code",
   "execution_count": 6,
   "id": "088bba7b",
   "metadata": {},
   "outputs": [
    {
     "name": "stdout",
     "output_type": "stream",
     "text": [
      "<class 'pandas.core.frame.DataFrame'>\n",
      "RangeIndex: 50000 entries, 0 to 49999\n",
      "Data columns (total 14 columns):\n",
      " #   Column                 Non-Null Count  Dtype  \n",
      "---  ------                 --------------  -----  \n",
      " 0   num_passengers         50000 non-null  int64  \n",
      " 1   sales_channel          50000 non-null  object \n",
      " 2   trip_type              50000 non-null  object \n",
      " 3   purchase_lead          50000 non-null  int64  \n",
      " 4   length_of_stay         50000 non-null  int64  \n",
      " 5   flight_hour            50000 non-null  int64  \n",
      " 6   flight_day             50000 non-null  object \n",
      " 7   route                  50000 non-null  object \n",
      " 8   booking_origin         50000 non-null  object \n",
      " 9   wants_extra_baggage    50000 non-null  int64  \n",
      " 10  wants_preferred_seat   50000 non-null  int64  \n",
      " 11  wants_in_flight_meals  50000 non-null  int64  \n",
      " 12  flight_duration        50000 non-null  float64\n",
      " 13  booking_complete       50000 non-null  int64  \n",
      "dtypes: float64(1), int64(8), object(5)\n",
      "memory usage: 5.3+ MB\n"
     ]
    }
   ],
   "source": [
    "df.info()"
   ]
  },
  {
   "cell_type": "code",
   "execution_count": 7,
   "id": "780b51b1",
   "metadata": {},
   "outputs": [
    {
     "data": {
      "text/html": [
       "<div>\n",
       "<style scoped>\n",
       "    .dataframe tbody tr th:only-of-type {\n",
       "        vertical-align: middle;\n",
       "    }\n",
       "\n",
       "    .dataframe tbody tr th {\n",
       "        vertical-align: top;\n",
       "    }\n",
       "\n",
       "    .dataframe thead th {\n",
       "        text-align: right;\n",
       "    }\n",
       "</style>\n",
       "<table border=\"1\" class=\"dataframe\">\n",
       "  <thead>\n",
       "    <tr style=\"text-align: right;\">\n",
       "      <th></th>\n",
       "      <th>num_passengers</th>\n",
       "      <th>purchase_lead</th>\n",
       "      <th>length_of_stay</th>\n",
       "      <th>flight_hour</th>\n",
       "      <th>wants_extra_baggage</th>\n",
       "      <th>wants_preferred_seat</th>\n",
       "      <th>wants_in_flight_meals</th>\n",
       "      <th>flight_duration</th>\n",
       "      <th>booking_complete</th>\n",
       "    </tr>\n",
       "  </thead>\n",
       "  <tbody>\n",
       "    <tr>\n",
       "      <th>count</th>\n",
       "      <td>50000.000000</td>\n",
       "      <td>50000.000000</td>\n",
       "      <td>50000.00000</td>\n",
       "      <td>50000.00000</td>\n",
       "      <td>50000.000000</td>\n",
       "      <td>50000.000000</td>\n",
       "      <td>50000.000000</td>\n",
       "      <td>50000.000000</td>\n",
       "      <td>50000.000000</td>\n",
       "    </tr>\n",
       "    <tr>\n",
       "      <th>mean</th>\n",
       "      <td>1.591240</td>\n",
       "      <td>84.940480</td>\n",
       "      <td>23.04456</td>\n",
       "      <td>9.06634</td>\n",
       "      <td>0.668780</td>\n",
       "      <td>0.296960</td>\n",
       "      <td>0.427140</td>\n",
       "      <td>7.277561</td>\n",
       "      <td>0.149560</td>\n",
       "    </tr>\n",
       "    <tr>\n",
       "      <th>std</th>\n",
       "      <td>1.020165</td>\n",
       "      <td>90.451378</td>\n",
       "      <td>33.88767</td>\n",
       "      <td>5.41266</td>\n",
       "      <td>0.470657</td>\n",
       "      <td>0.456923</td>\n",
       "      <td>0.494668</td>\n",
       "      <td>1.496863</td>\n",
       "      <td>0.356643</td>\n",
       "    </tr>\n",
       "    <tr>\n",
       "      <th>min</th>\n",
       "      <td>1.000000</td>\n",
       "      <td>0.000000</td>\n",
       "      <td>0.00000</td>\n",
       "      <td>0.00000</td>\n",
       "      <td>0.000000</td>\n",
       "      <td>0.000000</td>\n",
       "      <td>0.000000</td>\n",
       "      <td>4.670000</td>\n",
       "      <td>0.000000</td>\n",
       "    </tr>\n",
       "    <tr>\n",
       "      <th>25%</th>\n",
       "      <td>1.000000</td>\n",
       "      <td>21.000000</td>\n",
       "      <td>5.00000</td>\n",
       "      <td>5.00000</td>\n",
       "      <td>0.000000</td>\n",
       "      <td>0.000000</td>\n",
       "      <td>0.000000</td>\n",
       "      <td>5.620000</td>\n",
       "      <td>0.000000</td>\n",
       "    </tr>\n",
       "    <tr>\n",
       "      <th>50%</th>\n",
       "      <td>1.000000</td>\n",
       "      <td>51.000000</td>\n",
       "      <td>17.00000</td>\n",
       "      <td>9.00000</td>\n",
       "      <td>1.000000</td>\n",
       "      <td>0.000000</td>\n",
       "      <td>0.000000</td>\n",
       "      <td>7.570000</td>\n",
       "      <td>0.000000</td>\n",
       "    </tr>\n",
       "    <tr>\n",
       "      <th>75%</th>\n",
       "      <td>2.000000</td>\n",
       "      <td>115.000000</td>\n",
       "      <td>28.00000</td>\n",
       "      <td>13.00000</td>\n",
       "      <td>1.000000</td>\n",
       "      <td>1.000000</td>\n",
       "      <td>1.000000</td>\n",
       "      <td>8.830000</td>\n",
       "      <td>0.000000</td>\n",
       "    </tr>\n",
       "    <tr>\n",
       "      <th>max</th>\n",
       "      <td>9.000000</td>\n",
       "      <td>867.000000</td>\n",
       "      <td>778.00000</td>\n",
       "      <td>23.00000</td>\n",
       "      <td>1.000000</td>\n",
       "      <td>1.000000</td>\n",
       "      <td>1.000000</td>\n",
       "      <td>9.500000</td>\n",
       "      <td>1.000000</td>\n",
       "    </tr>\n",
       "  </tbody>\n",
       "</table>\n",
       "</div>"
      ],
      "text/plain": [
       "       num_passengers  purchase_lead  length_of_stay  flight_hour   \n",
       "count    50000.000000   50000.000000     50000.00000  50000.00000  \\\n",
       "mean         1.591240      84.940480        23.04456      9.06634   \n",
       "std          1.020165      90.451378        33.88767      5.41266   \n",
       "min          1.000000       0.000000         0.00000      0.00000   \n",
       "25%          1.000000      21.000000         5.00000      5.00000   \n",
       "50%          1.000000      51.000000        17.00000      9.00000   \n",
       "75%          2.000000     115.000000        28.00000     13.00000   \n",
       "max          9.000000     867.000000       778.00000     23.00000   \n",
       "\n",
       "       wants_extra_baggage  wants_preferred_seat  wants_in_flight_meals   \n",
       "count         50000.000000          50000.000000           50000.000000  \\\n",
       "mean              0.668780              0.296960               0.427140   \n",
       "std               0.470657              0.456923               0.494668   \n",
       "min               0.000000              0.000000               0.000000   \n",
       "25%               0.000000              0.000000               0.000000   \n",
       "50%               1.000000              0.000000               0.000000   \n",
       "75%               1.000000              1.000000               1.000000   \n",
       "max               1.000000              1.000000               1.000000   \n",
       "\n",
       "       flight_duration  booking_complete  \n",
       "count     50000.000000      50000.000000  \n",
       "mean          7.277561          0.149560  \n",
       "std           1.496863          0.356643  \n",
       "min           4.670000          0.000000  \n",
       "25%           5.620000          0.000000  \n",
       "50%           7.570000          0.000000  \n",
       "75%           8.830000          0.000000  \n",
       "max           9.500000          1.000000  "
      ]
     },
     "execution_count": 7,
     "metadata": {},
     "output_type": "execute_result"
    }
   ],
   "source": [
    "df.describe()"
   ]
  },
  {
   "cell_type": "code",
   "execution_count": 8,
   "id": "a80e1453",
   "metadata": {},
   "outputs": [
    {
     "data": {
      "text/plain": [
       "719"
      ]
     },
     "execution_count": 8,
     "metadata": {},
     "output_type": "execute_result"
    }
   ],
   "source": [
    "df.duplicated().sum()"
   ]
  },
  {
   "cell_type": "code",
   "execution_count": 9,
   "id": "73d62102",
   "metadata": {},
   "outputs": [],
   "source": [
    "df = df.drop_duplicates()"
   ]
  },
  {
   "cell_type": "code",
   "execution_count": 10,
   "id": "d6a0f536",
   "metadata": {},
   "outputs": [
    {
     "data": {
      "text/plain": [
       "0"
      ]
     },
     "execution_count": 10,
     "metadata": {},
     "output_type": "execute_result"
    }
   ],
   "source": [
    "df.duplicated().sum()"
   ]
  },
  {
   "cell_type": "code",
   "execution_count": 19,
   "id": "da8bf9c7",
   "metadata": {},
   "outputs": [
    {
     "data": {
      "text/plain": [
       "booking_complete\n",
       "0    41890\n",
       "1     7391\n",
       "Name: count, dtype: int64"
      ]
     },
     "execution_count": 19,
     "metadata": {},
     "output_type": "execute_result"
    }
   ],
   "source": [
    "df['booking_complete'].value_counts()"
   ]
  },
  {
   "cell_type": "code",
   "execution_count": 20,
   "id": "aafd4f54",
   "metadata": {},
   "outputs": [
    {
     "data": {
      "text/plain": [
       "<Axes: xlabel='booking_complete'>"
      ]
     },
     "execution_count": 20,
     "metadata": {},
     "output_type": "execute_result"
    },
    {
     "data": {
      "image/png": "[encoded data removed]",
      "text/plain": [
       "<Figure size 640x480 with 1 Axes>"
      ]
     },
     "metadata": {},
     "output_type": "display_data"
    }
   ],
   "source": [
    "df['booking_complete'].value_counts().plot(kind='bar')"
   ]
  },
  {
   "cell_type": "code",
   "execution_count": 11,
   "id": "a14ae65f",
   "metadata": {},
   "outputs": [
    {
     "data": {
      "text/plain": [
       "sales_channel\n",
       "Internet    43917\n",
       "Mobile       5364\n",
       "Name: count, dtype: int64"
      ]
     },
     "execution_count": 11,
     "metadata": {},
     "output_type": "execute_result"
    }
   ],
   "source": [
    "df['sales_channel'].value_counts()"
   ]
  },
  {
   "cell_type": "code",
   "execution_count": 24,
   "id": "6aa4a566",
   "metadata": {},
   "outputs": [
    {
     "name": "stdout",
     "output_type": "stream",
     "text": [
      "Collecting scikit-learn\n",
      "  Downloading scikit_learn-1.2.2-cp311-cp311-win_amd64.whl (8.3 MB)\n",
      "     ---------------------------------------- 0.0/8.3 MB ? eta -:--:--\n",
      "      --------------------------------------- 0.2/8.3 MB 6.3 MB/s eta 0:00:02\n",
      "     --- ------------------------------------ 0.7/8.3 MB 8.9 MB/s eta 0:00:01\n",
      "     ---- ----------------------------------- 0.9/8.3 MB 6.9 MB/s eta 0:00:02\n",
      "     ---- ----------------------------------- 1.0/8.3 MB 6.4 MB/s eta 0:00:02\n",
      "     ---- ----------------------------------- 1.0/8.3 MB 6.4 MB/s eta 0:00:02\n",
      "     ----- ---------------------------------- 1.0/8.3 MB 3.9 MB/s eta 0:00:02\n",
      "     ------ --------------------------------- 1.4/8.3 MB 4.6 MB/s eta 0:00:02\n",
      "     ------- -------------------------------- 1.5/8.3 MB 4.4 MB/s eta 0:00:02\n",
      "     -------- ------------------------------- 1.7/8.3 MB 4.3 MB/s eta 0:00:02\n",
      "     -------- ------------------------------- 1.8/8.3 MB 4.3 MB/s eta 0:00:02\n",
      "     --------- ------------------------------ 2.0/8.3 MB 4.2 MB/s eta 0:00:02\n",
      "     --------- ------------------------------ 2.0/8.3 MB 4.2 MB/s eta 0:00:02\n",
      "     --------- ------------------------------ 2.0/8.3 MB 4.2 MB/s eta 0:00:02\n",
      "     ----------- ---------------------------- 2.3/8.3 MB 3.8 MB/s eta 0:00:02\n",
      "     ------------ --------------------------- 2.5/8.3 MB 3.8 MB/s eta 0:00:02\n",
      "     ------------ --------------------------- 2.7/8.3 MB 3.8 MB/s eta 0:00:02\n",
      "     ------------- -------------------------- 2.9/8.3 MB 3.8 MB/s eta 0:00:02\n",
      "     -------------- ------------------------- 3.0/8.3 MB 3.8 MB/s eta 0:00:02\n",
      "     -------------- ------------------------- 3.0/8.3 MB 3.8 MB/s eta 0:00:02\n",
      "     -------------- ------------------------- 3.0/8.3 MB 3.8 MB/s eta 0:00:02\n",
      "     ---------------- ----------------------- 3.3/8.3 MB 3.6 MB/s eta 0:00:02\n",
      "     ---------------- ----------------------- 3.5/8.3 MB 3.6 MB/s eta 0:00:02\n",
      "     ----------------- ---------------------- 3.6/8.3 MB 3.6 MB/s eta 0:00:02\n",
      "     ------------------ --------------------- 3.9/8.3 MB 3.7 MB/s eta 0:00:02\n",
      "     ------------------- -------------------- 4.1/8.3 MB 3.7 MB/s eta 0:00:02\n",
      "     -------------------- ------------------- 4.3/8.3 MB 3.7 MB/s eta 0:00:02\n",
      "     -------------------- ------------------- 4.3/8.3 MB 3.7 MB/s eta 0:00:02\n",
      "     -------------------- ------------------- 4.3/8.3 MB 3.7 MB/s eta 0:00:02\n",
      "     --------------------- ------------------ 4.5/8.3 MB 3.5 MB/s eta 0:00:02\n",
      "     ----------------------- ---------------- 4.9/8.3 MB 3.7 MB/s eta 0:00:01\n",
      "     ------------------------ --------------- 5.1/8.3 MB 3.7 MB/s eta 0:00:01\n",
      "     ------------------------- -------------- 5.3/8.3 MB 3.7 MB/s eta 0:00:01\n",
      "     -------------------------- ------------- 5.4/8.3 MB 3.7 MB/s eta 0:00:01\n",
      "     --------------------------- ------------ 5.6/8.3 MB 3.7 MB/s eta 0:00:01\n",
      "     ---------------------------- ----------- 5.8/8.3 MB 3.7 MB/s eta 0:00:01\n",
      "     ---------------------------- ----------- 6.0/8.3 MB 3.7 MB/s eta 0:00:01\n",
      "     ----------------------------- ---------- 6.1/8.3 MB 3.7 MB/s eta 0:00:01\n",
      "     ------------------------------ --------- 6.3/8.3 MB 3.7 MB/s eta 0:00:01\n",
      "     ------------------------------- -------- 6.5/8.3 MB 3.8 MB/s eta 0:00:01\n",
      "     -------------------------------- ------- 6.7/8.3 MB 3.8 MB/s eta 0:00:01\n",
      "     --------------------------------- ------ 6.8/8.3 MB 3.8 MB/s eta 0:00:01\n",
      "     --------------------------------- ------ 7.0/8.3 MB 3.8 MB/s eta 0:00:01\n",
      "     ---------------------------------- ----- 7.2/8.3 MB 3.8 MB/s eta 0:00:01\n",
      "     ----------------------------------- ---- 7.3/8.3 MB 3.8 MB/s eta 0:00:01\n",
      "     ------------------------------------ --- 7.5/8.3 MB 3.8 MB/s eta 0:00:01\n",
      "     ------------------------------------ --- 7.6/8.3 MB 3.8 MB/s eta 0:00:01\n",
      "     ------------------------------------- -- 7.8/8.3 MB 3.8 MB/s eta 0:00:01\n",
      "     -------------------------------------- - 8.0/8.3 MB 3.8 MB/s eta 0:00:01\n",
      "     ---------------------------------------  8.2/8.3 MB 3.8 MB/s eta 0:00:01\n",
      "     ---------------------------------------  8.3/8.3 MB 3.8 MB/s eta 0:00:01\n",
      "     ---------------------------------------- 8.3/8.3 MB 3.7 MB/s eta 0:00:00\n",
      "Requirement already satisfied: numpy>=1.17.3 in c:\\users\\sanjana\\anaconda3\\envs\\notebook\\lib\\site-packages (from scikit-learn) (1.24.3)\n",
      "Collecting scipy>=1.3.2\n",
      "  Downloading scipy-1.10.1-cp311-cp311-win_amd64.whl (42.2 MB)\n",
      "     ---------------------------------------- 0.0/42.2 MB ? eta -:--:--\n",
      "      --------------------------------------- 0.5/42.2 MB 11.1 MB/s eta 0:00:04\n",
      "      --------------------------------------- 0.8/42.2 MB 9.6 MB/s eta 0:00:05\n",
      "      --------------------------------------- 0.9/42.2 MB 7.4 MB/s eta 0:00:06\n",
      "     - -------------------------------------- 1.1/42.2 MB 6.4 MB/s eta 0:00:07\n",
      "     - -------------------------------------- 1.2/42.2 MB 6.0 MB/s eta 0:00:07\n",
      "     - -------------------------------------- 1.4/42.2 MB 5.5 MB/s eta 0:00:08\n",
      "     - -------------------------------------- 1.6/42.2 MB 5.4 MB/s eta 0:00:08\n",
      "     - -------------------------------------- 1.8/42.2 MB 5.1 MB/s eta 0:00:08\n",
      "     - -------------------------------------- 1.9/42.2 MB 4.9 MB/s eta 0:00:09\n",
      "     - -------------------------------------- 2.1/42.2 MB 4.9 MB/s eta 0:00:09\n",
      "     -- ------------------------------------- 2.3/42.2 MB 4.8 MB/s eta 0:00:09\n",
      "     -- ------------------------------------- 2.5/42.2 MB 4.6 MB/s eta 0:00:09\n",
      "     -- ------------------------------------- 2.7/42.2 MB 4.6 MB/s eta 0:00:09\n",
      "     -- ------------------------------------- 2.8/42.2 MB 4.6 MB/s eta 0:00:09\n",
      "     -- ------------------------------------- 3.0/42.2 MB 4.5 MB/s eta 0:00:09\n",
      "     -- ------------------------------------- 3.1/42.2 MB 4.5 MB/s eta 0:00:09\n",
      "     --- ------------------------------------ 3.3/42.2 MB 4.5 MB/s eta 0:00:09\n",
      "     --- ------------------------------------ 3.5/42.2 MB 4.4 MB/s eta 0:00:09\n",
      "     --- ------------------------------------ 3.7/42.2 MB 4.4 MB/s eta 0:00:09\n",
      "     --- ------------------------------------ 3.8/42.2 MB 4.4 MB/s eta 0:00:09\n",
      "     --- ------------------------------------ 4.0/42.2 MB 4.4 MB/s eta 0:00:09\n",
      "     --- ------------------------------------ 4.2/42.2 MB 4.4 MB/s eta 0:00:09\n",
      "     ---- ----------------------------------- 4.3/42.2 MB 4.3 MB/s eta 0:00:09\n",
      "     ---- ----------------------------------- 4.5/42.2 MB 4.3 MB/s eta 0:00:09\n",
      "     ---- ----------------------------------- 4.7/42.2 MB 4.3 MB/s eta 0:00:09\n",
      "     ---- ----------------------------------- 4.8/42.2 MB 4.3 MB/s eta 0:00:09\n",
      "     ---- ----------------------------------- 5.0/42.2 MB 4.2 MB/s eta 0:00:09\n",
      "     ---- ----------------------------------- 5.2/42.2 MB 4.2 MB/s eta 0:00:09\n",
      "     ----- ---------------------------------- 5.4/42.2 MB 4.2 MB/s eta 0:00:09\n",
      "     ----- ---------------------------------- 5.5/42.2 MB 4.2 MB/s eta 0:00:09\n",
      "     ----- ---------------------------------- 5.7/42.2 MB 4.2 MB/s eta 0:00:09\n",
      "     ----- ---------------------------------- 5.9/42.2 MB 4.2 MB/s eta 0:00:09\n",
      "     ----- ---------------------------------- 6.1/42.2 MB 4.2 MB/s eta 0:00:09\n",
      "     ----- ---------------------------------- 6.2/42.2 MB 4.2 MB/s eta 0:00:09\n",
      "     ------ --------------------------------- 6.4/42.2 MB 4.2 MB/s eta 0:00:09\n",
      "     ------ --------------------------------- 6.5/42.2 MB 4.1 MB/s eta 0:00:09\n",
      "     ------ --------------------------------- 6.7/42.2 MB 4.1 MB/s eta 0:00:09\n",
      "     ------ --------------------------------- 6.9/42.2 MB 4.1 MB/s eta 0:00:09\n",
      "     ------ --------------------------------- 7.1/42.2 MB 4.2 MB/s eta 0:00:09\n",
      "     ------ --------------------------------- 7.3/42.2 MB 4.1 MB/s eta 0:00:09\n",
      "     ------- -------------------------------- 7.5/42.2 MB 4.1 MB/s eta 0:00:09\n",
      "     ------- -------------------------------- 7.6/42.2 MB 4.1 MB/s eta 0:00:09\n",
      "     ------- -------------------------------- 7.8/42.2 MB 4.1 MB/s eta 0:00:09\n",
      "     ------- -------------------------------- 8.0/42.2 MB 4.1 MB/s eta 0:00:09\n",
      "     ------- -------------------------------- 8.1/42.2 MB 4.1 MB/s eta 0:00:09\n",
      "     ------- -------------------------------- 8.3/42.2 MB 4.1 MB/s eta 0:00:09\n",
      "     -------- ------------------------------- 8.5/42.2 MB 4.1 MB/s eta 0:00:09\n",
      "     -------- ------------------------------- 8.6/42.2 MB 4.1 MB/s eta 0:00:09\n",
      "     -------- ------------------------------- 8.8/42.2 MB 4.1 MB/s eta 0:00:09\n",
      "     -------- ------------------------------- 8.9/42.2 MB 4.1 MB/s eta 0:00:09\n",
      "     -------- ------------------------------- 9.2/42.2 MB 4.1 MB/s eta 0:00:09\n",
      "     -------- ------------------------------- 9.4/42.2 MB 4.1 MB/s eta 0:00:09\n",
      "     --------- ------------------------------ 9.5/42.2 MB 4.1 MB/s eta 0:00:09\n",
      "     --------- ------------------------------ 9.7/42.2 MB 4.1 MB/s eta 0:00:08\n",
      "     --------- ------------------------------ 9.9/42.2 MB 4.1 MB/s eta 0:00:08\n",
      "     --------- ------------------------------ 10.1/42.2 MB 4.0 MB/s eta 0:00:08\n",
      "     --------- ------------------------------ 10.2/42.2 MB 4.0 MB/s eta 0:00:08\n",
      "     --------- ------------------------------ 10.4/42.2 MB 4.0 MB/s eta 0:00:08\n",
      "     ---------- ----------------------------- 10.6/42.2 MB 4.0 MB/s eta 0:00:08\n",
      "     ---------- ----------------------------- 10.8/42.2 MB 3.9 MB/s eta 0:00:09\n",
      "     ---------- ----------------------------- 10.9/42.2 MB 3.9 MB/s eta 0:00:09\n",
      "     ---------- ----------------------------- 11.1/42.2 MB 3.9 MB/s eta 0:00:08\n",
      "     ---------- ----------------------------- 11.3/42.2 MB 3.9 MB/s eta 0:00:08\n",
      "     ---------- ----------------------------- 11.4/42.2 MB 3.9 MB/s eta 0:00:08\n",
      "     ----------- ---------------------------- 11.6/42.2 MB 3.9 MB/s eta 0:00:08\n",
      "     ----------- ---------------------------- 11.8/42.2 MB 3.9 MB/s eta 0:00:08\n",
      "     ----------- ---------------------------- 12.0/42.2 MB 3.9 MB/s eta 0:00:08\n",
      "     ----------- ---------------------------- 12.1/42.2 MB 3.9 MB/s eta 0:00:08\n",
      "     ----------- ---------------------------- 12.3/42.2 MB 3.9 MB/s eta 0:00:08\n",
      "     ----------- ---------------------------- 12.5/42.2 MB 3.9 MB/s eta 0:00:08\n",
      "     ----------- ---------------------------- 12.6/42.2 MB 3.9 MB/s eta 0:00:08\n",
      "     ------------ --------------------------- 12.8/42.2 MB 3.9 MB/s eta 0:00:08\n",
      "     ------------ --------------------------- 13.0/42.2 MB 3.9 MB/s eta 0:00:08\n",
      "     ------------ --------------------------- 13.1/42.2 MB 3.9 MB/s eta 0:00:08\n",
      "     ------------ --------------------------- 13.3/42.2 MB 3.9 MB/s eta 0:00:08\n",
      "     ------------ --------------------------- 13.5/42.2 MB 3.9 MB/s eta 0:00:08\n",
      "     ------------ --------------------------- 13.6/42.2 MB 3.9 MB/s eta 0:00:08\n",
      "     ------------- -------------------------- 13.8/42.2 MB 3.9 MB/s eta 0:00:08\n",
      "     ------------- -------------------------- 14.0/42.2 MB 3.9 MB/s eta 0:00:08\n",
      "     ------------- -------------------------- 14.1/42.2 MB 3.9 MB/s eta 0:00:08\n",
      "     ------------- -------------------------- 14.3/42.2 MB 3.9 MB/s eta 0:00:08\n",
      "     ------------- -------------------------- 14.5/42.2 MB 3.9 MB/s eta 0:00:08\n",
      "     ------------- -------------------------- 14.7/42.2 MB 3.9 MB/s eta 0:00:08\n",
      "     -------------- ------------------------- 14.9/42.2 MB 3.9 MB/s eta 0:00:08\n",
      "     -------------- ------------------------- 15.0/42.2 MB 3.9 MB/s eta 0:00:08\n",
      "     -------------- ------------------------- 15.2/42.2 MB 3.9 MB/s eta 0:00:07\n",
      "     -------------- ------------------------- 15.4/42.2 MB 3.9 MB/s eta 0:00:07\n",
      "     -------------- ------------------------- 15.6/42.2 MB 3.9 MB/s eta 0:00:07\n",
      "     -------------- ------------------------- 15.8/42.2 MB 3.9 MB/s eta 0:00:07\n",
      "     --------------- ------------------------ 15.9/42.2 MB 3.9 MB/s eta 0:00:07\n",
      "     --------------- ------------------------ 16.1/42.2 MB 3.9 MB/s eta 0:00:07\n",
      "     --------------- ------------------------ 16.3/42.2 MB 3.9 MB/s eta 0:00:07\n",
      "     --------------- ------------------------ 16.5/42.2 MB 3.9 MB/s eta 0:00:07\n",
      "     --------------- ------------------------ 16.6/42.2 MB 3.9 MB/s eta 0:00:07\n",
      "     --------------- ------------------------ 16.9/42.2 MB 3.9 MB/s eta 0:00:07\n",
      "     ---------------- ----------------------- 17.0/42.2 MB 3.9 MB/s eta 0:00:07\n",
      "     ---------------- ----------------------- 17.2/42.2 MB 3.9 MB/s eta 0:00:07\n",
      "     ---------------- ----------------------- 17.4/42.2 MB 3.9 MB/s eta 0:00:07\n",
      "     ---------------- ----------------------- 17.6/42.2 MB 3.9 MB/s eta 0:00:07\n",
      "     ---------------- ----------------------- 17.7/42.2 MB 3.9 MB/s eta 0:00:07\n",
      "     ---------------- ----------------------- 17.9/42.2 MB 3.9 MB/s eta 0:00:07\n",
      "     ----------------- ---------------------- 18.1/42.2 MB 3.9 MB/s eta 0:00:07\n",
      "     ----------------- ---------------------- 18.2/42.2 MB 3.9 MB/s eta 0:00:07\n",
      "     ----------------- ---------------------- 18.5/42.2 MB 3.9 MB/s eta 0:00:07\n",
      "     ----------------- ---------------------- 18.6/42.2 MB 3.9 MB/s eta 0:00:07\n",
      "     ----------------- ---------------------- 18.8/42.2 MB 3.9 MB/s eta 0:00:07\n",
      "     ----------------- ---------------------- 19.0/42.2 MB 3.9 MB/s eta 0:00:07\n",
      "     ------------------ --------------------- 19.2/42.2 MB 4.0 MB/s eta 0:00:06\n",
      "     ------------------ --------------------- 19.4/42.2 MB 3.9 MB/s eta 0:00:06\n",
      "     ------------------ --------------------- 19.6/42.2 MB 3.9 MB/s eta 0:00:06\n",
      "     ------------------ --------------------- 19.8/42.2 MB 3.9 MB/s eta 0:00:06\n",
      "     ------------------ --------------------- 19.9/42.2 MB 3.9 MB/s eta 0:00:06\n",
      "     ------------------- -------------------- 20.1/42.2 MB 3.9 MB/s eta 0:00:06\n",
      "     ------------------- -------------------- 20.3/42.2 MB 3.9 MB/s eta 0:00:06\n",
      "     ------------------- -------------------- 20.5/42.2 MB 3.9 MB/s eta 0:00:06\n",
      "     ------------------- -------------------- 20.7/42.2 MB 3.9 MB/s eta 0:00:06\n",
      "     ------------------- -------------------- 20.8/42.2 MB 3.9 MB/s eta 0:00:06\n",
      "     ------------------- -------------------- 21.0/42.2 MB 3.9 MB/s eta 0:00:06\n",
      "     -------------------- ------------------- 21.2/42.2 MB 3.9 MB/s eta 0:00:06\n",
      "     -------------------- ------------------- 21.4/42.2 MB 3.9 MB/s eta 0:00:06\n",
      "     -------------------- ------------------- 21.5/42.2 MB 3.9 MB/s eta 0:00:06\n",
      "     -------------------- ------------------- 21.7/42.2 MB 3.9 MB/s eta 0:00:06\n",
      "     -------------------- ------------------- 21.9/42.2 MB 3.9 MB/s eta 0:00:06\n",
      "     -------------------- ------------------- 22.0/42.2 MB 3.9 MB/s eta 0:00:06\n",
      "     --------------------- ------------------ 22.2/42.2 MB 3.9 MB/s eta 0:00:06\n",
      "     --------------------- ------------------ 22.4/42.2 MB 3.9 MB/s eta 0:00:06\n",
      "     --------------------- ------------------ 22.6/42.2 MB 3.9 MB/s eta 0:00:06\n",
      "     --------------------- ------------------ 22.8/42.2 MB 3.9 MB/s eta 0:00:06\n",
      "     --------------------- ------------------ 22.9/42.2 MB 3.9 MB/s eta 0:00:05\n",
      "     --------------------- ------------------ 23.1/42.2 MB 3.9 MB/s eta 0:00:05\n",
      "     ---------------------- ----------------- 23.3/42.2 MB 3.9 MB/s eta 0:00:05\n",
      "     ---------------------- ----------------- 23.5/42.2 MB 3.9 MB/s eta 0:00:05\n",
      "     ---------------------- ----------------- 23.6/42.2 MB 3.9 MB/s eta 0:00:05\n",
      "     ---------------------- ----------------- 23.8/42.2 MB 3.9 MB/s eta 0:00:05\n",
      "     ---------------------- ----------------- 24.0/42.2 MB 3.9 MB/s eta 0:00:05\n",
      "     ---------------------- ----------------- 24.1/42.2 MB 3.9 MB/s eta 0:00:05\n",
      "     ----------------------- ---------------- 24.3/42.2 MB 3.9 MB/s eta 0:00:05\n",
      "     ----------------------- ---------------- 24.4/42.2 MB 3.9 MB/s eta 0:00:05\n",
      "     ----------------------- ---------------- 24.6/42.2 MB 3.9 MB/s eta 0:00:05\n",
      "     ----------------------- ---------------- 24.8/42.2 MB 3.9 MB/s eta 0:00:05\n",
      "     ----------------------- ---------------- 25.0/42.2 MB 3.9 MB/s eta 0:00:05\n",
      "     ----------------------- ---------------- 25.2/42.2 MB 3.9 MB/s eta 0:00:05\n",
      "     ------------------------ --------------- 25.4/42.2 MB 3.9 MB/s eta 0:00:05\n",
      "     ------------------------ --------------- 25.5/42.2 MB 3.9 MB/s eta 0:00:05\n",
      "     ------------------------ --------------- 25.5/42.2 MB 3.9 MB/s eta 0:00:05\n",
      "     ------------------------ --------------- 25.9/42.2 MB 3.9 MB/s eta 0:00:05\n",
      "     ------------------------ --------------- 26.1/42.2 MB 3.9 MB/s eta 0:00:05\n",
      "     ------------------------ --------------- 26.2/42.2 MB 3.9 MB/s eta 0:00:05\n",
      "     ------------------------- -------------- 26.4/42.2 MB 3.9 MB/s eta 0:00:05\n",
      "     ------------------------- -------------- 26.6/42.2 MB 3.9 MB/s eta 0:00:05\n",
      "     ------------------------- -------------- 26.8/42.2 MB 3.9 MB/s eta 0:00:04\n",
      "     ------------------------- -------------- 26.9/42.2 MB 3.9 MB/s eta 0:00:04\n",
      "     ------------------------- -------------- 27.1/42.2 MB 3.9 MB/s eta 0:00:04\n",
      "     ------------------------- -------------- 27.3/42.2 MB 3.9 MB/s eta 0:00:04\n",
      "     ------------------------- -------------- 27.5/42.2 MB 3.9 MB/s eta 0:00:04\n",
      "     -------------------------- ------------- 27.6/42.2 MB 3.9 MB/s eta 0:00:04\n",
      "     -------------------------- ------------- 27.8/42.2 MB 3.9 MB/s eta 0:00:04\n",
      "     -------------------------- ------------- 28.0/42.2 MB 3.9 MB/s eta 0:00:04\n",
      "     -------------------------- ------------- 28.1/42.2 MB 3.9 MB/s eta 0:00:04\n",
      "     -------------------------- ------------- 28.4/42.2 MB 3.9 MB/s eta 0:00:04\n",
      "     --------------------------- ------------ 28.5/42.2 MB 3.9 MB/s eta 0:00:04\n",
      "     --------------------------- ------------ 28.7/42.2 MB 3.9 MB/s eta 0:00:04\n",
      "     --------------------------- ------------ 28.9/42.2 MB 3.9 MB/s eta 0:00:04\n",
      "     --------------------------- ------------ 29.1/42.2 MB 3.9 MB/s eta 0:00:04\n",
      "     --------------------------- ------------ 29.2/42.2 MB 3.9 MB/s eta 0:00:04\n",
      "     --------------------------- ------------ 29.4/42.2 MB 3.9 MB/s eta 0:00:04\n",
      "     ---------------------------- ----------- 29.6/42.2 MB 3.9 MB/s eta 0:00:04\n",
      "     ---------------------------- ----------- 29.8/42.2 MB 3.9 MB/s eta 0:00:04\n",
      "     ---------------------------- ----------- 30.0/42.2 MB 3.9 MB/s eta 0:00:04\n",
      "     ---------------------------- ----------- 30.1/42.2 MB 3.9 MB/s eta 0:00:04\n",
      "     ---------------------------- ----------- 30.3/42.2 MB 3.9 MB/s eta 0:00:04\n",
      "     ---------------------------- ----------- 30.5/42.2 MB 3.9 MB/s eta 0:00:04\n",
      "     ----------------------------- ---------- 30.7/42.2 MB 3.9 MB/s eta 0:00:03\n",
      "     ----------------------------- ---------- 30.9/42.2 MB 3.9 MB/s eta 0:00:03\n",
      "     ----------------------------- ---------- 31.0/42.2 MB 3.9 MB/s eta 0:00:03\n",
      "     ----------------------------- ---------- 31.2/42.2 MB 3.9 MB/s eta 0:00:03\n",
      "     ----------------------------- ---------- 31.4/42.2 MB 3.9 MB/s eta 0:00:03\n",
      "     ----------------------------- ---------- 31.6/42.2 MB 3.9 MB/s eta 0:00:03\n",
      "     ------------------------------ --------- 31.8/42.2 MB 3.9 MB/s eta 0:00:03\n",
      "     ------------------------------ --------- 32.0/42.2 MB 3.9 MB/s eta 0:00:03\n",
      "     ------------------------------ --------- 32.2/42.2 MB 3.9 MB/s eta 0:00:03\n",
      "     ------------------------------ --------- 32.3/42.2 MB 3.9 MB/s eta 0:00:03\n",
      "     ------------------------------ --------- 32.6/42.2 MB 3.9 MB/s eta 0:00:03\n",
      "     ------------------------------- -------- 32.7/42.2 MB 3.9 MB/s eta 0:00:03\n",
      "     ------------------------------- -------- 32.9/42.2 MB 3.9 MB/s eta 0:00:03\n",
      "     ------------------------------- -------- 33.1/42.2 MB 3.9 MB/s eta 0:00:03\n",
      "     ------------------------------- -------- 33.3/42.2 MB 3.9 MB/s eta 0:00:03\n",
      "     ------------------------------- -------- 33.4/42.2 MB 3.9 MB/s eta 0:00:03\n",
      "     ------------------------------- -------- 33.6/42.2 MB 3.9 MB/s eta 0:00:03\n",
      "     ------------------------------- -------- 33.8/42.2 MB 3.9 MB/s eta 0:00:03\n",
      "     -------------------------------- ------- 34.0/42.2 MB 3.9 MB/s eta 0:00:03\n",
      "     -------------------------------- ------- 34.1/42.2 MB 3.9 MB/s eta 0:00:03\n",
      "     -------------------------------- ------- 34.3/42.2 MB 3.9 MB/s eta 0:00:03\n",
      "     -------------------------------- ------- 34.5/42.2 MB 3.9 MB/s eta 0:00:03\n",
      "     -------------------------------- ------- 34.6/42.2 MB 3.9 MB/s eta 0:00:02\n",
      "     -------------------------------- ------- 34.8/42.2 MB 3.9 MB/s eta 0:00:02\n",
      "     --------------------------------- ------ 35.0/42.2 MB 3.9 MB/s eta 0:00:02\n",
      "     --------------------------------- ------ 35.1/42.2 MB 3.9 MB/s eta 0:00:02\n",
      "     --------------------------------- ------ 35.3/42.2 MB 3.9 MB/s eta 0:00:02\n",
      "     --------------------------------- ------ 35.5/42.2 MB 3.9 MB/s eta 0:00:02\n",
      "     --------------------------------- ------ 35.7/42.2 MB 3.9 MB/s eta 0:00:02\n",
      "     --------------------------------- ------ 35.9/42.2 MB 4.0 MB/s eta 0:00:02\n",
      "     ---------------------------------- ----- 36.1/42.2 MB 3.9 MB/s eta 0:00:02\n",
      "     ---------------------------------- ----- 36.3/42.2 MB 3.9 MB/s eta 0:00:02\n",
      "     ---------------------------------- ----- 36.4/42.2 MB 3.9 MB/s eta 0:00:02\n",
      "     ---------------------------------- ----- 36.6/42.2 MB 3.9 MB/s eta 0:00:02\n",
      "     ---------------------------------- ----- 36.7/42.2 MB 3.9 MB/s eta 0:00:02\n",
      "     ---------------------------------- ----- 36.9/42.2 MB 3.9 MB/s eta 0:00:02\n",
      "     ----------------------------------- ---- 37.0/42.2 MB 3.9 MB/s eta 0:00:02\n",
      "     ----------------------------------- ---- 37.2/42.2 MB 3.9 MB/s eta 0:00:02\n",
      "     ----------------------------------- ---- 37.4/42.2 MB 3.9 MB/s eta 0:00:02\n",
      "     ----------------------------------- ---- 37.4/42.2 MB 3.9 MB/s eta 0:00:02\n",
      "     ----------------------------------- ---- 37.4/42.2 MB 3.8 MB/s eta 0:00:02\n",
      "     ----------------------------------- ---- 37.5/42.2 MB 3.8 MB/s eta 0:00:02\n",
      "     ----------------------------------- ---- 37.5/42.2 MB 3.8 MB/s eta 0:00:02\n",
      "     ----------------------------------- ---- 37.5/42.2 MB 3.8 MB/s eta 0:00:02\n",
      "     ----------------------------------- ---- 37.5/42.2 MB 3.8 MB/s eta 0:00:02\n",
      "     ----------------------------------- ---- 37.5/42.2 MB 3.8 MB/s eta 0:00:02\n",
      "     ----------------------------------- ---- 37.8/42.2 MB 3.5 MB/s eta 0:00:02\n",
      "     ----------------------------------- ---- 37.8/42.2 MB 3.5 MB/s eta 0:00:02\n",
      "     ----------------------------------- ---- 38.0/42.2 MB 3.5 MB/s eta 0:00:02\n",
      "     ------------------------------------ --- 38.1/42.2 MB 3.5 MB/s eta 0:00:02\n",
      "     ------------------------------------ --- 38.2/42.2 MB 3.4 MB/s eta 0:00:02\n",
      "     ------------------------------------ --- 38.2/42.2 MB 3.4 MB/s eta 0:00:02\n",
      "     ------------------------------------ --- 38.2/42.2 MB 3.3 MB/s eta 0:00:02\n",
      "     ------------------------------------ --- 38.4/42.2 MB 3.3 MB/s eta 0:00:02\n",
      "     ------------------------------------ --- 38.4/42.2 MB 3.3 MB/s eta 0:00:02\n",
      "     ------------------------------------ --- 38.5/42.2 MB 3.2 MB/s eta 0:00:02\n",
      "     ------------------------------------ --- 38.5/42.2 MB 3.2 MB/s eta 0:00:02\n",
      "     ------------------------------------ --- 38.6/42.2 MB 3.2 MB/s eta 0:00:02\n",
      "     ------------------------------------ --- 38.7/42.2 MB 3.1 MB/s eta 0:00:02\n",
      "     ------------------------------------ --- 38.9/42.2 MB 3.1 MB/s eta 0:00:02\n",
      "     ------------------------------------- -- 39.3/42.2 MB 3.2 MB/s eta 0:00:01\n",
      "     ------------------------------------- -- 39.6/42.2 MB 3.2 MB/s eta 0:00:01\n",
      "     ------------------------------------- -- 39.8/42.2 MB 3.2 MB/s eta 0:00:01\n",
      "     ------------------------------------- -- 40.0/42.2 MB 3.3 MB/s eta 0:00:01\n",
      "     -------------------------------------- - 40.2/42.2 MB 3.3 MB/s eta 0:00:01\n",
      "     -------------------------------------- - 40.3/42.2 MB 3.3 MB/s eta 0:00:01\n",
      "     -------------------------------------- - 40.4/42.2 MB 3.3 MB/s eta 0:00:01\n",
      "     -------------------------------------- - 40.5/42.2 MB 3.2 MB/s eta 0:00:01\n",
      "     -------------------------------------- - 40.6/42.2 MB 3.2 MB/s eta 0:00:01\n",
      "     -------------------------------------- - 40.8/42.2 MB 3.2 MB/s eta 0:00:01\n",
      "     -------------------------------------- - 41.1/42.2 MB 3.2 MB/s eta 0:00:01\n",
      "     ---------------------------------------  41.4/42.2 MB 3.3 MB/s eta 0:00:01\n",
      "     ---------------------------------------  41.6/42.2 MB 3.3 MB/s eta 0:00:01\n",
      "     ---------------------------------------  41.8/42.2 MB 3.3 MB/s eta 0:00:01\n",
      "     ---------------------------------------  42.0/42.2 MB 3.3 MB/s eta 0:00:01\n",
      "     ---------------------------------------  42.1/42.2 MB 3.3 MB/s eta 0:00:01\n",
      "     ---------------------------------------  42.2/42.2 MB 3.3 MB/s eta 0:00:01\n",
      "     ---------------------------------------  42.2/42.2 MB 3.3 MB/s eta 0:00:01\n",
      "     ---------------------------------------  42.2/42.2 MB 3.3 MB/s eta 0:00:01\n",
      "     ---------------------------------------  42.2/42.2 MB 3.3 MB/s eta 0:00:01\n",
      "     ---------------------------------------  42.2/42.2 MB 3.3 MB/s eta 0:00:01\n",
      "     ---------------------------------------  42.2/42.2 MB 3.3 MB/s eta 0:00:01\n",
      "     ---------------------------------------- 42.2/42.2 MB 2.9 MB/s eta 0:00:00\n",
      "Collecting joblib>=1.1.1\n",
      "  Using cached joblib-1.2.0-py3-none-any.whl (297 kB)\n",
      "Collecting threadpoolctl>=2.0.0\n",
      "  Using cached threadpoolctl-3.1.0-py3-none-any.whl (14 kB)\n",
      "Installing collected packages: threadpoolctl, scipy, joblib, scikit-learn\n",
      "Successfully installed joblib-1.2.0 scikit-learn-1.2.2 scipy-1.10.1 threadpoolctl-3.1.0\n"
     ]
    }
   ],
   "source": [
    "!pip install scikit-learn"
   ]
  },
  {
   "cell_type": "code",
   "execution_count": 28,
   "id": "2bc052c3",
   "metadata": {},
   "outputs": [],
   "source": [
    "#label encoding\n",
    "\n",
    "from sklearn.preprocessing import LabelEncoder\n",
    "le = LabelEncoder()\n",
    "df['sales_channel'] = le.fit_transform(df['sales_channel'])"
   ]
  },
  {
   "cell_type": "code",
   "execution_count": 31,
   "id": "d48b97e6",
   "metadata": {},
   "outputs": [
    {
     "data": {
      "text/plain": [
       "trip_type\n",
       "RoundTrip     48779\n",
       "OneWay          386\n",
       "CircleTrip      116\n",
       "Name: count, dtype: int64"
      ]
     },
     "execution_count": 31,
     "metadata": {},
     "output_type": "execute_result"
    }
   ],
   "source": [
    "df['trip_type'].value_counts()"
   ]
  },
  {
   "cell_type": "code",
   "execution_count": 49,
   "id": "78228db5",
   "metadata": {},
   "outputs": [],
   "source": [
    "# label encoding\n",
    "df['trip_type'] = le.fit_transform(df['trip_type'])"
   ]
  },
  {
   "cell_type": "code",
   "execution_count": 51,
   "id": "454f23ac",
   "metadata": {},
   "outputs": [
    {
     "data": {
      "text/plain": [
       "trip_type\n",
       "2    48779\n",
       "1      386\n",
       "0      116\n",
       "Name: count, dtype: int64"
      ]
     },
     "execution_count": 51,
     "metadata": {},
     "output_type": "execute_result"
    }
   ],
   "source": [
    "df['trip_type'].value_counts()"
   ]
  },
  {
   "cell_type": "code",
   "execution_count": 15,
   "id": "92aef442",
   "metadata": {},
   "outputs": [
    {
     "data": {
      "text/plain": [
       "flight_day\n",
       "Mon    7988\n",
       "Wed    7562\n",
       "Tue    7558\n",
       "Thu    7323\n",
       "Fri    6685\n",
       "Sun    6442\n",
       "Sat    5723\n",
       "Name: count, dtype: int64"
      ]
     },
     "execution_count": 15,
     "metadata": {},
     "output_type": "execute_result"
    }
   ],
   "source": [
    "df['flight_day'].value_counts()"
   ]
  },
  {
   "cell_type": "code",
   "execution_count": 52,
   "id": "7a90e207",
   "metadata": {},
   "outputs": [],
   "source": [
    "# label encoding\n",
    "df['flight_day'] = le.fit_transform(df['flight_day'])"
   ]
  },
  {
   "cell_type": "code",
   "execution_count": 53,
   "id": "b71f1ec1",
   "metadata": {},
   "outputs": [
    {
     "data": {
      "text/html": [
       "<div>\n",
       "<style scoped>\n",
       "    .dataframe tbody tr th:only-of-type {\n",
       "        vertical-align: middle;\n",
       "    }\n",
       "\n",
       "    .dataframe tbody tr th {\n",
       "        vertical-align: top;\n",
       "    }\n",
       "\n",
       "    .dataframe thead th {\n",
       "        text-align: right;\n",
       "    }\n",
       "</style>\n",
       "<table border=\"1\" class=\"dataframe\">\n",
       "  <thead>\n",
       "    <tr style=\"text-align: right;\">\n",
       "      <th></th>\n",
       "      <th>num_passengers</th>\n",
       "      <th>sales_channel</th>\n",
       "      <th>trip_type</th>\n",
       "      <th>purchase_lead</th>\n",
       "      <th>length_of_stay</th>\n",
       "      <th>flight_hour</th>\n",
       "      <th>flight_day</th>\n",
       "      <th>route</th>\n",
       "      <th>booking_origin</th>\n",
       "      <th>wants_extra_baggage</th>\n",
       "      <th>wants_preferred_seat</th>\n",
       "      <th>wants_in_flight_meals</th>\n",
       "      <th>flight_duration</th>\n",
       "      <th>booking_complete</th>\n",
       "    </tr>\n",
       "  </thead>\n",
       "  <tbody>\n",
       "    <tr>\n",
       "      <th>0</th>\n",
       "      <td>2</td>\n",
       "      <td>0</td>\n",
       "      <td>2</td>\n",
       "      <td>262</td>\n",
       "      <td>19</td>\n",
       "      <td>7</td>\n",
       "      <td>2</td>\n",
       "      <td>AKLDEL</td>\n",
       "      <td>New Zealand</td>\n",
       "      <td>1</td>\n",
       "      <td>0</td>\n",
       "      <td>0</td>\n",
       "      <td>5.52</td>\n",
       "      <td>0</td>\n",
       "    </tr>\n",
       "    <tr>\n",
       "      <th>1</th>\n",
       "      <td>1</td>\n",
       "      <td>0</td>\n",
       "      <td>2</td>\n",
       "      <td>112</td>\n",
       "      <td>20</td>\n",
       "      <td>3</td>\n",
       "      <td>2</td>\n",
       "      <td>AKLDEL</td>\n",
       "      <td>New Zealand</td>\n",
       "      <td>0</td>\n",
       "      <td>0</td>\n",
       "      <td>0</td>\n",
       "      <td>5.52</td>\n",
       "      <td>0</td>\n",
       "    </tr>\n",
       "    <tr>\n",
       "      <th>2</th>\n",
       "      <td>2</td>\n",
       "      <td>0</td>\n",
       "      <td>2</td>\n",
       "      <td>243</td>\n",
       "      <td>22</td>\n",
       "      <td>17</td>\n",
       "      <td>6</td>\n",
       "      <td>AKLDEL</td>\n",
       "      <td>India</td>\n",
       "      <td>1</td>\n",
       "      <td>1</td>\n",
       "      <td>0</td>\n",
       "      <td>5.52</td>\n",
       "      <td>0</td>\n",
       "    </tr>\n",
       "    <tr>\n",
       "      <th>3</th>\n",
       "      <td>1</td>\n",
       "      <td>0</td>\n",
       "      <td>2</td>\n",
       "      <td>96</td>\n",
       "      <td>31</td>\n",
       "      <td>4</td>\n",
       "      <td>2</td>\n",
       "      <td>AKLDEL</td>\n",
       "      <td>New Zealand</td>\n",
       "      <td>0</td>\n",
       "      <td>0</td>\n",
       "      <td>1</td>\n",
       "      <td>5.52</td>\n",
       "      <td>0</td>\n",
       "    </tr>\n",
       "    <tr>\n",
       "      <th>4</th>\n",
       "      <td>2</td>\n",
       "      <td>0</td>\n",
       "      <td>2</td>\n",
       "      <td>68</td>\n",
       "      <td>22</td>\n",
       "      <td>15</td>\n",
       "      <td>6</td>\n",
       "      <td>AKLDEL</td>\n",
       "      <td>India</td>\n",
       "      <td>1</td>\n",
       "      <td>0</td>\n",
       "      <td>1</td>\n",
       "      <td>5.52</td>\n",
       "      <td>0</td>\n",
       "    </tr>\n",
       "  </tbody>\n",
       "</table>\n",
       "</div>"
      ],
      "text/plain": [
       "   num_passengers  sales_channel  trip_type  purchase_lead  length_of_stay   \n",
       "0               2              0          2            262              19  \\\n",
       "1               1              0          2            112              20   \n",
       "2               2              0          2            243              22   \n",
       "3               1              0          2             96              31   \n",
       "4               2              0          2             68              22   \n",
       "\n",
       "   flight_hour  flight_day   route booking_origin  wants_extra_baggage   \n",
       "0            7           2  AKLDEL    New Zealand                    1  \\\n",
       "1            3           2  AKLDEL    New Zealand                    0   \n",
       "2           17           6  AKLDEL          India                    1   \n",
       "3            4           2  AKLDEL    New Zealand                    0   \n",
       "4           15           6  AKLDEL          India                    1   \n",
       "\n",
       "   wants_preferred_seat  wants_in_flight_meals  flight_duration   \n",
       "0                     0                      0             5.52  \\\n",
       "1                     0                      0             5.52   \n",
       "2                     1                      0             5.52   \n",
       "3                     0                      1             5.52   \n",
       "4                     0                      1             5.52   \n",
       "\n",
       "   booking_complete  \n",
       "0                 0  \n",
       "1                 0  \n",
       "2                 0  \n",
       "3                 0  \n",
       "4                 0  "
      ]
     },
     "execution_count": 53,
     "metadata": {},
     "output_type": "execute_result"
    }
   ],
   "source": [
    "df.head()"
   ]
  },
  {
   "cell_type": "code",
   "execution_count": 54,
   "id": "96cded92",
   "metadata": {},
   "outputs": [],
   "source": [
    "# Model Training"
   ]
  },
  {
   "cell_type": "code",
   "execution_count": 66,
   "id": "f9f66333",
   "metadata": {},
   "outputs": [],
   "source": [
    "x_new = df.drop(['booking_complete','route','booking_origin'],axis = 1)"
   ]
  },
  {
   "cell_type": "code",
   "execution_count": 55,
   "id": "0296afdc",
   "metadata": {},
   "outputs": [],
   "source": [
    "from sklearn.ensemble import RandomForestClassifier\n",
    "from sklearn.model_selection import train_test_split\n",
    "from sklearn.metrics import accuracy_score"
   ]
  },
  {
   "cell_type": "code",
   "execution_count": 56,
   "id": "7cafee31",
   "metadata": {},
   "outputs": [],
   "source": [
    "x = df.drop('booking_complete',axis = 1)"
   ]
  },
  {
   "cell_type": "code",
   "execution_count": 57,
   "id": "273c1bd3",
   "metadata": {},
   "outputs": [],
   "source": [
    "y = df['booking_complete']"
   ]
  },
  {
   "cell_type": "code",
   "execution_count": 67,
   "id": "9a72fd4b",
   "metadata": {},
   "outputs": [],
   "source": [
    "x_train,x_test,y_train,y_test = train_test_split(x_new,y,test_size = 0.3,random_state = 42)"
   ]
  },
  {
   "cell_type": "code",
   "execution_count": 68,
   "id": "b5937602",
   "metadata": {},
   "outputs": [],
   "source": [
    "rf = RandomForestClassifier(n_estimators=100, random_state=42)"
   ]
  },
  {
   "cell_type": "code",
   "execution_count": 69,
   "id": "5e1eb0fa",
   "metadata": {},
   "outputs": [
    {
     "data": {
      "text/html": [
       "<style>#sk-container-id-1 {color: black;background-color: white;}#sk-container-id-1 pre{padding: 0;}#sk-container-id-1 div.sk-toggleable {background-color: white;}#sk-container-id-1 label.sk-toggleable__label {cursor: pointer;display: block;width: 100%;margin-bottom: 0;padding: 0.3em;box-sizing: border-box;text-align: center;}#sk-container-id-1 label.sk-toggleable__label-arrow:before {content: \"▸\";float: left;margin-right: 0.25em;color: #696969;}#sk-container-id-1 label.sk-toggleable__label-arrow:hover:before {color: black;}#sk-container-id-1 div.sk-estimator:hover label.sk-toggleable__label-arrow:before {color: black;}#sk-container-id-1 div.sk-toggleable__content {max-height: 0;max-width: 0;overflow: hidden;text-align: left;background-color: #f0f8ff;}#sk-container-id-1 div.sk-toggleable__content pre {margin: 0.2em;color: black;border-radius: 0.25em;background-color: #f0f8ff;}#sk-container-id-1 input.sk-toggleable__control:checked~div.sk-toggleable__content {max-height: 200px;max-width: 100%;overflow: auto;}#sk-container-id-1 input.sk-toggleable__control:checked~label.sk-toggleable__label-arrow:before {content: \"▾\";}#sk-container-id-1 div.sk-estimator input.sk-toggleable__control:checked~label.sk-toggleable__label {background-color: #d4ebff;}#sk-container-id-1 div.sk-label input.sk-toggleable__control:checked~label.sk-toggleable__label {background-color: #d4ebff;}#sk-container-id-1 input.sk-hidden--visually {border: 0;clip: rect(1px 1px 1px 1px);clip: rect(1px, 1px, 1px, 1px);height: 1px;margin: -1px;overflow: hidden;padding: 0;position: absolute;width: 1px;}#sk-container-id-1 div.sk-estimator {font-family: monospace;background-color: #f0f8ff;border: 1px dotted black;border-radius: 0.25em;box-sizing: border-box;margin-bottom: 0.5em;}#sk-container-id-1 div.sk-estimator:hover {background-color: #d4ebff;}#sk-container-id-1 div.sk-parallel-item::after {content: \"\";width: 100%;border-bottom: 1px solid gray;flex-grow: 1;}#sk-container-id-1 div.sk-label:hover label.sk-toggleable__label {background-color: #d4ebff;}#sk-container-id-1 div.sk-serial::before {content: \"\";position: absolute;border-left: 1px solid gray;box-sizing: border-box;top: 0;bottom: 0;left: 50%;z-index: 0;}#sk-container-id-1 div.sk-serial {display: flex;flex-direction: column;align-items: center;background-color: white;padding-right: 0.2em;padding-left: 0.2em;position: relative;}#sk-container-id-1 div.sk-item {position: relative;z-index: 1;}#sk-container-id-1 div.sk-parallel {display: flex;align-items: stretch;justify-content: center;background-color: white;position: relative;}#sk-container-id-1 div.sk-item::before, #sk-container-id-1 div.sk-parallel-item::before {content: \"\";position: absolute;border-left: 1px solid gray;box-sizing: border-box;top: 0;bottom: 0;left: 50%;z-index: -1;}#sk-container-id-1 div.sk-parallel-item {display: flex;flex-direction: column;z-index: 1;position: relative;background-color: white;}#sk-container-id-1 div.sk-parallel-item:first-child::after {align-self: flex-end;width: 50%;}#sk-container-id-1 div.sk-parallel-item:last-child::after {align-self: flex-start;width: 50%;}#sk-container-id-1 div.sk-parallel-item:only-child::after {width: 0;}#sk-container-id-1 div.sk-dashed-wrapped {border: 1px dashed gray;margin: 0 0.4em 0.5em 0.4em;box-sizing: border-box;padding-bottom: 0.4em;background-color: white;}#sk-container-id-1 div.sk-label label {font-family: monospace;font-weight: bold;display: inline-block;line-height: 1.2em;}#sk-container-id-1 div.sk-label-container {text-align: center;}#sk-container-id-1 div.sk-container {/* jupyter's `normalize.less` sets `[hidden] { display: none; }` but bootstrap.min.css set `[hidden] { display: none !important; }` so we also need the `!important` here to be able to override the default hidden behavior on the sphinx rendered scikit-learn.org. See: https://github.com/scikit-learn/scikit-learn/issues/21755 */display: inline-block !important;position: relative;}#sk-container-id-1 div.sk-text-repr-fallback {display: none;}</style><div id=\"sk-container-id-1\" class=\"sk-top-container\"><div class=\"sk-text-repr-fallback\"><pre>RandomForestClassifier(random_state=42)</pre><b>In a Jupyter environment, please rerun this cell to show the HTML representation or trust the notebook. <br />On GitHub, the HTML representation is unable to render, please try loading this page with nbviewer.org.</b></div><div class=\"sk-container\" hidden><div class=\"sk-item\"><div class=\"sk-estimator sk-toggleable\"><input class=\"sk-toggleable__control sk-hidden--visually\" id=\"sk-estimator-id-1\" type=\"checkbox\" checked><label for=\"sk-estimator-id-1\" class=\"sk-toggleable__label sk-toggleable__label-arrow\">RandomForestClassifier</label><div class=\"sk-toggleable__content\"><pre>RandomForestClassifier(random_state=42)</pre></div></div></div></div></div>"
      ],
      "text/plain": [
       "RandomForestClassifier(random_state=42)"
      ]
     },
     "execution_count": 69,
     "metadata": {},
     "output_type": "execute_result"
    }
   ],
   "source": [
    "rf.fit(x_train, y_train)"
   ]
  },
  {
   "cell_type": "code",
   "execution_count": 72,
   "id": "aab3bc35",
   "metadata": {},
   "outputs": [],
   "source": [
    "y_pred = rf.predict(x_test)"
   ]
  },
  {
   "cell_type": "code",
   "execution_count": 74,
   "id": "fb8a4c1b",
   "metadata": {},
   "outputs": [
    {
     "data": {
      "text/plain": [
       "0.8471423740277308"
      ]
     },
     "execution_count": 74,
     "metadata": {},
     "output_type": "execute_result"
    }
   ],
   "source": [
    "acc = accuracy_score(y_test,y_pred)\n",
    "acc"
   ]
  },
  {
   "cell_type": "code",
   "execution_count": null,
   "id": "e5fc2db6",
   "metadata": {},
   "outputs": [],
   "source": []
  },
  {
   "cell_type": "code",
   "execution_count": 75,
   "id": "07d69de0",
   "metadata": {},
   "outputs": [],
   "source": [
    "# Cross Validation\n",
    "from sklearn.model_selection import cross_val_score\n",
    "from sklearn.metrics import classification_report"
   ]
  },
  {
   "cell_type": "code",
   "execution_count": 78,
   "id": "c2b4dda3",
   "metadata": {},
   "outputs": [],
   "source": [
    "cv_scores = cross_val_score(rf, x_new, y)"
   ]
  },
  {
   "cell_type": "code",
   "execution_count": 79,
   "id": "6bec21a1",
   "metadata": {},
   "outputs": [
    {
     "data": {
      "text/plain": [
       "array([0.84995435, 0.82751623, 0.77374188, 0.38666802, 0.40127841])"
      ]
     },
     "execution_count": 79,
     "metadata": {},
     "output_type": "execute_result"
    }
   ],
   "source": [
    "cv_scores"
   ]
  },
  {
   "cell_type": "code",
   "execution_count": 81,
   "id": "7c92f8a0",
   "metadata": {},
   "outputs": [
    {
     "name": "stdout",
     "output_type": "stream",
     "text": [
      "              precision    recall  f1-score   support\n",
      "\n",
      "           0       0.86      0.99      0.92     12597\n",
      "           1       0.36      0.04      0.07      2188\n",
      "\n",
      "    accuracy                           0.85     14785\n",
      "   macro avg       0.61      0.51      0.49     14785\n",
      "weighted avg       0.78      0.85      0.79     14785\n",
      "\n"
     ]
    }
   ],
   "source": [
    "print(classification_report(y_test, y_pred))"
   ]
  },
  {
   "cell_type": "code",
   "execution_count": null,
   "id": "79bdff87",
   "metadata": {},
   "outputs": [],
   "source": []
  },
  {
   "cell_type": "code",
   "execution_count": 82,
   "id": "22458559",
   "metadata": {},
   "outputs": [],
   "source": [
    "# Feature Importance"
   ]
  },
  {
   "cell_type": "code",
   "execution_count": 83,
   "id": "64ad7145",
   "metadata": {},
   "outputs": [],
   "source": [
    "feature_importances = rf.feature_importances_"
   ]
  },
  {
   "cell_type": "code",
   "execution_count": 84,
   "id": "205be955",
   "metadata": {},
   "outputs": [],
   "source": [
    "# Sort feature importances in descending order\n",
    "indices = sorted(range(len(feature_importances)), key=lambda i: feature_importances[i], reverse=True)\n"
   ]
  },
  {
   "cell_type": "code",
   "execution_count": 91,
   "id": "3d92b99e",
   "metadata": {},
   "outputs": [],
   "source": [
    "feature_names = ['num_passengers', 'sales_channel', 'trip_type', 'purchase_lead',\n",
    "       'length_of_stay', 'flight_hour', 'flight_day', 'route',\n",
    "       'booking_origin', 'wants_extra_baggage', 'wants_preferred_seat',\n",
    "       'wants_in_flight_meals', 'flight_duration']"
   ]
  },
  {
   "cell_type": "code",
   "execution_count": 92,
   "id": "2c1b10ab",
   "metadata": {},
   "outputs": [
    {
     "data": {
      "image/png": "[encoded data removed]",
      "text/plain": [
       "<Figure size 1000x600 with 1 Axes>"
      ]
     },
     "metadata": {},
     "output_type": "display_data"
    }
   ],
   "source": [
    "# Create a bar plot of feature importances\n",
    "plt.figure(figsize=(10, 6))\n",
    "plt.title(\"Variable Importance\")\n",
    "plt.bar(range(len(feature_importances)), [feature_importances[i] for i in indices], color=\"b\", align=\"center\")\n",
    "plt.xticks(range(len(feature_importances)), [feature_names[i] for i in indices], rotation=90)\n",
    "plt.xlabel(\"Variables\")\n",
    "plt.ylabel(\"Importance\")\n",
    "plt.show()"
   ]
  },
  {
   "cell_type": "code",
   "execution_count": 93,
   "id": "d868bad3",
   "metadata": {},
   "outputs": [],
   "source": [
    "from sklearn.metrics import roc_curve, roc_auc_score"
   ]
  },
  {
   "cell_type": "code",
   "execution_count": 99,
   "id": "ef20e3a3",
   "metadata": {},
   "outputs": [],
   "source": [
    "y_pred_prob = rf.predict_proba(x_test)[:, 1]"
   ]
  },
  {
   "cell_type": "code",
   "execution_count": 100,
   "id": "038a931d",
   "metadata": {},
   "outputs": [],
   "source": [
    "y_true = y_test"
   ]
  },
  {
   "cell_type": "code",
   "execution_count": 102,
   "id": "62cb056c",
   "metadata": {},
   "outputs": [],
   "source": [
    "fpr, tpr, thresholds = roc_curve(y_true, y_pred_prob)"
   ]
  },
  {
   "cell_type": "code",
   "execution_count": 103,
   "id": "80738eae",
   "metadata": {},
   "outputs": [],
   "source": [
    "auc = roc_auc_score(y_true, y_pred_prob)"
   ]
  },
  {
   "cell_type": "code",
   "execution_count": 104,
   "id": "0a943785",
   "metadata": {},
   "outputs": [
    {
     "data": {
      "text/plain": [
       "0.6446746918501097"
      ]
     },
     "execution_count": 104,
     "metadata": {},
     "output_type": "execute_result"
    }
   ],
   "source": [
    "auc"
   ]
  },
  {
   "cell_type": "code",
   "execution_count": 105,
   "id": "e7cf8f85",
   "metadata": {},
   "outputs": [
    {
     "data": {
      "image/png": "[encoded data removed]",
      "text/plain": [
       "<Figure size 640x480 with 1 Axes>"
      ]
     },
     "metadata": {},
     "output_type": "display_data"
    }
   ],
   "source": [
    "plt.plot(fpr, tpr, label=f'AUC = {auc:.2f}')\n",
    "plt.plot([0, 1], [0, 1], 'k--')  # Diagonal line representing random classifier\n",
    "plt.xlabel('False Positive Rate (FPR)')\n",
    "plt.ylabel('True Positive Rate (TPR)')\n",
    "plt.title('Receiver Operating Characteristic (ROC) Curve')\n",
    "plt.legend()\n",
    "plt.show()"
   ]
  },
  {
   "cell_type": "code",
   "execution_count": null,
   "id": "ea7c6d2a",
   "metadata": {},
   "outputs": [],
   "source": []
  }
 ],
 "metadata": {
  "kernelspec": {
   "display_name": "Python 3 (ipykernel)",
   "language": "python",
   "name": "python3"
  },
  "language_info": {
   "codemirror_mode": {
    "name": "ipython",
    "version": 3
   },
   "file_extension": ".py",
   "mimetype": "text/x-python",
   "name": "python",
   "nbconvert_exporter": "python",
   "pygments_lexer": "ipython3",
   "version": "3.11.3"
  }
 },
 "nbformat": 4,
 "nbformat_minor": 5
}
